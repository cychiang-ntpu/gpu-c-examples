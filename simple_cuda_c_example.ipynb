{
  "nbformat": 4,
  "nbformat_minor": 0,
  "metadata": {
    "colab": {
      "provenance": [],
      "collapsed_sections": [
        "ZUul1nSTVArO"
      ],
      "authorship_tag": "ABX9TyMtLuX41A562vvCrnqjQeoG",
      "include_colab_link": true
    },
    "kernelspec": {
      "name": "python3",
      "display_name": "Python 3"
    },
    "language_info": {
      "name": "python"
    }
  },
  "cells": [
    {
      "cell_type": "markdown",
      "metadata": {
        "id": "view-in-github",
        "colab_type": "text"
      },
      "source": [
        "<a href=\"https://colab.research.google.com/github/cychiang-ntpu/gpu-c-examples/blob/main/simple_cuda_c_example.ipynb\" target=\"_parent\"><img src=\"https://colab.research.google.com/assets/colab-badge.svg\" alt=\"Open In Colab\"/></a>"
      ]
    },
    {
      "cell_type": "markdown",
      "source": [
        "# 使用 cuda C 做平行運算之簡易範例"
      ],
      "metadata": {
        "id": "kNA4Ymv8VxJw"
      }
    },
    {
      "cell_type": "markdown",
      "source": [
        "## Step 1: 將原始碼寫入系統資料夾"
      ],
      "metadata": {
        "id": "ZUul1nSTVArO"
      }
    },
    {
      "cell_type": "code",
      "source": [
        "%%writefile hello.cu\n",
        "#include <stdio.h>\n",
        "#include <sys/time.h>\n",
        "\n",
        "#define USE_GPU\n",
        "\n",
        "__global__\n",
        "void saxpy(int n, float a, float *x, float *y)\n",
        "{\n",
        "  int i = blockIdx.x*blockDim.x + threadIdx.x;\n",
        "  if (i < n) y[i] = a*x[i] + y[i];\n",
        "}\n",
        "\n",
        "\n",
        "void saxcpu(int N, float a, float *x, float *y)\n",
        "{\n",
        "  for (int i = 0; i < N; i++) {\n",
        "    y[i] = a*x[i] + y[i];\n",
        "  }\n",
        "}\n",
        "\n",
        "int main(void)\n",
        "{\n",
        "  int N = 1<<20;\n",
        "  float *x, *y, *d_x, *d_y;\n",
        "  struct timeval t1, t2;\n",
        "  double elapsedTime;\n",
        "  x = (float*)malloc(N*sizeof(float));\n",
        "  y = (float*)malloc(N*sizeof(float));\n",
        "\n",
        "  printf(\"N=%d\\n\", N);\n",
        "\n",
        "  cudaMalloc(&d_x, N*sizeof(float));\n",
        "  cudaMalloc(&d_y, N*sizeof(float));\n",
        "\n",
        "  for (int i = 0; i < N; i++) {\n",
        "    x[i] = 1.0f;\n",
        "    y[i] = 2.0f;\n",
        "  }\n",
        "\n",
        "\n",
        "\n",
        "\n",
        "#ifdef USE_GPU\n",
        "  cudaMemcpy(d_x, x, N*sizeof(float), cudaMemcpyHostToDevice);\n",
        "  cudaMemcpy(d_y, y, N*sizeof(float), cudaMemcpyHostToDevice);\n",
        "\n",
        "  // start timer\n",
        "  gettimeofday(&t1, NULL);\n",
        "\n",
        "  // Perform SAXPY on 1M elements\n",
        "  for(int j=0;j<1000;j++)\n",
        "    saxpy<<<(N+255)/256, 256>>>(N, 2.0f, d_x, d_y);\n",
        "\n",
        "  // stop timer\n",
        "  gettimeofday(&t2, NULL);\n",
        "\n",
        "  cudaMemcpy(y, d_y, N*sizeof(float), cudaMemcpyDeviceToHost);\n",
        "#else\n",
        "  // start timer\n",
        "  gettimeofday(&t1, NULL);\n",
        "\n",
        "  for(int j=0;j<1000;j++)\n",
        "    saxcpu(N, 2.0f, x, y);\n",
        "\n",
        "  // stop timer\n",
        "  gettimeofday(&t2, NULL);\n",
        "#endif\n",
        "\n",
        "\n",
        "  // compute and print the elapsed time in millisec\n",
        "  elapsedTime = (t2.tv_sec - t1.tv_sec) * 1000.0;      // sec to ms\n",
        "  elapsedTime += (t2.tv_usec - t1.tv_usec) / 1000.0;   // us to ms\n",
        "  printf(\"%f ms.\\n\", elapsedTime);\n",
        "\n",
        "  float maxError = 0.0f;\n",
        "  for (int i = 0; i < N; i++)\n",
        "    maxError = max(maxError, abs(y[i]-4.0f));\n",
        "  printf(\"Max error: %f\\n\", maxError);\n",
        "\n",
        "  cudaFree(d_x);\n",
        "  cudaFree(d_y);\n",
        "  free(x);\n",
        "  free(y);\n",
        "}\n",
        "\n"
      ],
      "metadata": {
        "colab": {
          "base_uri": "https://localhost:8080/"
        },
        "id": "vvkJtTiuUt16",
        "outputId": "10f8ee60-3bcb-4d33-b2dd-c0a06f0028f9"
      },
      "execution_count": 8,
      "outputs": [
        {
          "output_type": "stream",
          "name": "stdout",
          "text": [
            "Overwriting hello.cu\n"
          ]
        }
      ]
    },
    {
      "cell_type": "markdown",
      "source": [
        "## Step 2: 使用 nvcc 進行編譯"
      ],
      "metadata": {
        "id": "mrNZdkFwU7qB"
      }
    },
    {
      "cell_type": "code",
      "source": [
        "!nvcc -o hello hello.cu"
      ],
      "metadata": {
        "id": "hmvbbkrsVZH5"
      },
      "execution_count": 9,
      "outputs": []
    },
    {
      "cell_type": "markdown",
      "source": [
        "## Step 3: 執行"
      ],
      "metadata": {
        "id": "VddFfRa-VeTB"
      }
    },
    {
      "cell_type": "code",
      "source": [
        "!./hello"
      ],
      "metadata": {
        "colab": {
          "base_uri": "https://localhost:8080/"
        },
        "id": "tC5nErIIVinK",
        "outputId": "74aa28a3-b806-443e-83a0-b1faeee3a902"
      },
      "execution_count": 10,
      "outputs": [
        {
          "output_type": "stream",
          "name": "stdout",
          "text": [
            "N=1048576\n",
            "0.133000 ms.\n",
            "Max error: 2.000000\n"
          ]
        }
      ]
    }
  ]
}